{
  "nbformat": 4,
  "nbformat_minor": 0,
  "metadata": {
    "colab": {
      "name": "Assignment1.ipynb",
      "provenance": [],
      "collapsed_sections": []
    },
    "kernelspec": {
      "name": "python3",
      "display_name": "Python 3"
    }
  },
  "cells": [
    {
      "cell_type": "code",
      "metadata": {
        "id": "9GQb_xCO6suk"
      },
      "source": [
        ""
      ],
      "execution_count": null,
      "outputs": []
    },
    {
      "cell_type": "markdown",
      "metadata": {
        "id": "lgHemdAd7NdR"
      },
      "source": [
        "Question 1\r\n",
        "Do Experiment with 5 List's In-built functions and post it to Github"
      ]
    },
    {
      "cell_type": "code",
      "metadata": {
        "id": "wLIMNDmg7QIS"
      },
      "source": [
        "lst = [1,5,9,4,7,8,'b','c','d','sanket']"
      ],
      "execution_count": null,
      "outputs": []
    },
    {
      "cell_type": "code",
      "metadata": {
        "id": "DNvrKo3f73Rr"
      },
      "source": [
        "lst.append('jagtap')\r\n"
      ],
      "execution_count": null,
      "outputs": []
    },
    {
      "cell_type": "code",
      "metadata": {
        "colab": {
          "base_uri": "https://localhost:8080/"
        },
        "id": "b9tCULTx8Oh3",
        "outputId": "e6e79147-af1f-4ae9-eb4d-ab1e368208bb"
      },
      "source": [
        "lst"
      ],
      "execution_count": null,
      "outputs": [
        {
          "output_type": "execute_result",
          "data": {
            "text/plain": [
              "[1, 5, 9, 4, 7, 8, 'b', 'c', 'd', 'sanket', 'jagtap', 'jagtap']"
            ]
          },
          "metadata": {
            "tags": []
          },
          "execution_count": 11
        }
      ]
    },
    {
      "cell_type": "code",
      "metadata": {
        "id": "-0nWBeFR8POG"
      },
      "source": [
        "lst.remove(lst[10])"
      ],
      "execution_count": null,
      "outputs": []
    },
    {
      "cell_type": "code",
      "metadata": {
        "colab": {
          "base_uri": "https://localhost:8080/"
        },
        "id": "-6bOYVM78VM1",
        "outputId": "983de73d-fd1a-462a-b0eb-2359259060ca"
      },
      "source": [
        "lst\r\n"
      ],
      "execution_count": null,
      "outputs": [
        {
          "output_type": "execute_result",
          "data": {
            "text/plain": [
              "[1, 5, 9, 4, 7, 8, 'b', 'c', 'd', 'sanket', 'jagtap']"
            ]
          },
          "metadata": {
            "tags": []
          },
          "execution_count": 15
        }
      ]
    },
    {
      "cell_type": "code",
      "metadata": {
        "colab": {
          "base_uri": "https://localhost:8080/"
        },
        "id": "xkmdEOHY8fNT",
        "outputId": "d50a360a-b3b2-4f96-f74b-a7716b0f5e4e"
      },
      "source": [
        "lst.sort"
      ],
      "execution_count": null,
      "outputs": [
        {
          "output_type": "execute_result",
          "data": {
            "text/plain": [
              "<function list.sort>"
            ]
          },
          "metadata": {
            "tags": []
          },
          "execution_count": 16
        }
      ]
    },
    {
      "cell_type": "code",
      "metadata": {
        "colab": {
          "base_uri": "https://localhost:8080/"
        },
        "id": "5y8mgQF68lQc",
        "outputId": "de50ff43-277c-4d5f-c9bd-034c1378bab5"
      },
      "source": [
        "lst"
      ],
      "execution_count": null,
      "outputs": [
        {
          "output_type": "execute_result",
          "data": {
            "text/plain": [
              "[1, 5, 9, 4, 7, 8, 'b', 'c', 'd', 'sanket', 'jagtap']"
            ]
          },
          "metadata": {
            "tags": []
          },
          "execution_count": 17
        }
      ]
    },
    {
      "cell_type": "code",
      "metadata": {
        "id": "cePx5DPr8mbc"
      },
      "source": [
        "lst.reverse"
      ],
      "execution_count": null,
      "outputs": []
    },
    {
      "cell_type": "code",
      "metadata": {
        "colab": {
          "base_uri": "https://localhost:8080/"
        },
        "id": "snPpl1u-8qp3",
        "outputId": "0530c803-2c1e-4306-c615-9c18f72034e7"
      },
      "source": [
        "lst"
      ],
      "execution_count": null,
      "outputs": [
        {
          "output_type": "execute_result",
          "data": {
            "text/plain": [
              "[1, 5, 9, 4, 7, 8, 'b', 'c', 'd', 'sanket', 'jagtap']"
            ]
          },
          "metadata": {
            "tags": []
          },
          "execution_count": 19
        }
      ]
    },
    {
      "cell_type": "code",
      "metadata": {
        "colab": {
          "base_uri": "https://localhost:8080/"
        },
        "id": "ZG3UXFgB8r7r",
        "outputId": "e00a7f9f-726e-47b9-9568-18f67c563b43"
      },
      "source": [
        "for o in reversed(lst):\r\n",
        "    print(o)"
      ],
      "execution_count": null,
      "outputs": [
        {
          "output_type": "stream",
          "text": [
            "jagtap\n",
            "sanket\n",
            "d\n",
            "c\n",
            "b\n",
            "8\n",
            "7\n",
            "4\n",
            "9\n",
            "5\n",
            "1\n"
          ],
          "name": "stdout"
        }
      ]
    },
    {
      "cell_type": "code",
      "metadata": {
        "colab": {
          "base_uri": "https://localhost:8080/"
        },
        "id": "7JVj_cqu9IVq",
        "outputId": "3ed42d64-c8e2-4817-b355-d2ab4d4b92bb"
      },
      "source": [
        "lst.count\r\n"
      ],
      "execution_count": null,
      "outputs": [
        {
          "output_type": "execute_result",
          "data": {
            "text/plain": [
              "<function list.count>"
            ]
          },
          "metadata": {
            "tags": []
          },
          "execution_count": 21
        }
      ]
    },
    {
      "cell_type": "code",
      "metadata": {
        "colab": {
          "base_uri": "https://localhost:8080/"
        },
        "id": "CdtKJxJR9qy1",
        "outputId": "a832e8ba-1ca8-41dc-818c-10f8e4edcfc0"
      },
      "source": [
        "print(lst.count)"
      ],
      "execution_count": null,
      "outputs": [
        {
          "output_type": "stream",
          "text": [
            "<built-in method count of list object at 0x7fb7e379e548>\n"
          ],
          "name": "stdout"
        }
      ]
    },
    {
      "cell_type": "code",
      "metadata": {
        "id": "9gqZ_Jke9tF4"
      },
      "source": [
        "lst.insert(9,lst[9])"
      ],
      "execution_count": null,
      "outputs": []
    },
    {
      "cell_type": "code",
      "metadata": {
        "colab": {
          "base_uri": "https://localhost:8080/"
        },
        "id": "8pPcyH_F90Ut",
        "outputId": "a3aec133-e912-42ca-ad0b-466fc1247ca1"
      },
      "source": [
        "lst"
      ],
      "execution_count": null,
      "outputs": [
        {
          "output_type": "execute_result",
          "data": {
            "text/plain": [
              "[1, 5, 9, 4, 7, 8, 'b', 'c', 'd', 'sanket', 'sanket', 'jagtap']"
            ]
          },
          "metadata": {
            "tags": []
          },
          "execution_count": 27
        }
      ]
    },
    {
      "cell_type": "code",
      "metadata": {
        "id": "_mjyYRKw9-3O"
      },
      "source": [
        ""
      ],
      "execution_count": null,
      "outputs": []
    },
    {
      "cell_type": "markdown",
      "metadata": {
        "id": "aEGYXxhX-8iA"
      },
      "source": [
        "Question 2\r\n",
        "Do Experiment with 5 Dictionary’s In-Built Functions, and post it to Github"
      ]
    },
    {
      "cell_type": "code",
      "metadata": {
        "id": "Lu7eYWB8-96T"
      },
      "source": [
        "biodata = {\"Name\":\"Sanket Jagtap\", \"Age\":27 ,\"Location\":\"VASAI\"}"
      ],
      "execution_count": 28,
      "outputs": []
    },
    {
      "cell_type": "code",
      "metadata": {
        "colab": {
          "base_uri": "https://localhost:8080/"
        },
        "id": "iRG07hvb_Vvm",
        "outputId": "7dc38b9c-eb1a-4392-bb02-c98076deb681"
      },
      "source": [
        "biodata"
      ],
      "execution_count": 29,
      "outputs": [
        {
          "output_type": "execute_result",
          "data": {
            "text/plain": [
              "{'Age': 27, 'Location': 'VASAI', 'Name': 'Sanket Jagtap'}"
            ]
          },
          "metadata": {
            "tags": []
          },
          "execution_count": 29
        }
      ]
    },
    {
      "cell_type": "code",
      "metadata": {
        "colab": {
          "base_uri": "https://localhost:8080/",
          "height": 35
        },
        "id": "tAJGuDJg_X1u",
        "outputId": "79068654-0438-4da9-926e-261e5d00103d"
      },
      "source": [
        "biodata.get(\"Name\")"
      ],
      "execution_count": 31,
      "outputs": [
        {
          "output_type": "execute_result",
          "data": {
            "application/vnd.google.colaboratory.intrinsic+json": {
              "type": "string"
            },
            "text/plain": [
              "'Sanket Jagtap'"
            ]
          },
          "metadata": {
            "tags": []
          },
          "execution_count": 31
        }
      ]
    },
    {
      "cell_type": "code",
      "metadata": {
        "id": "IiCdNnBH_ctD"
      },
      "source": [
        "biodata.update({\"Nature\": \"good\"})\r\n"
      ],
      "execution_count": 32,
      "outputs": []
    },
    {
      "cell_type": "code",
      "metadata": {
        "colab": {
          "base_uri": "https://localhost:8080/"
        },
        "id": "0XpLpE5XAL75",
        "outputId": "442913a1-b1d1-4535-b813-c601937c09ac"
      },
      "source": [
        "biodata"
      ],
      "execution_count": 33,
      "outputs": [
        {
          "output_type": "execute_result",
          "data": {
            "text/plain": [
              "{'Age': 27, 'Location': 'VASAI', 'Name': 'Sanket Jagtap', 'Nature': 'good'}"
            ]
          },
          "metadata": {
            "tags": []
          },
          "execution_count": 33
        }
      ]
    },
    {
      "cell_type": "code",
      "metadata": {
        "colab": {
          "base_uri": "https://localhost:8080/"
        },
        "id": "UMJ8BRwHANC2",
        "outputId": "d2d06964-08aa-43bb-ce6a-c6595217d84f"
      },
      "source": [
        "print(biodata.values)"
      ],
      "execution_count": 34,
      "outputs": [
        {
          "output_type": "stream",
          "text": [
            "<built-in method values of dict object at 0x7fb7db9b4120>\n"
          ],
          "name": "stdout"
        }
      ]
    },
    {
      "cell_type": "code",
      "metadata": {
        "id": "poUqxZARAdma"
      },
      "source": [
        "x = biodata.values"
      ],
      "execution_count": 35,
      "outputs": []
    },
    {
      "cell_type": "code",
      "metadata": {
        "colab": {
          "base_uri": "https://localhost:8080/"
        },
        "id": "A1_csSqvAgK0",
        "outputId": "f935aaac-a63b-4be6-d642-a944eb867a87"
      },
      "source": [
        "print(x)"
      ],
      "execution_count": 36,
      "outputs": [
        {
          "output_type": "stream",
          "text": [
            "<built-in method values of dict object at 0x7fb7db9b4120>\n"
          ],
          "name": "stdout"
        }
      ]
    },
    {
      "cell_type": "code",
      "metadata": {
        "colab": {
          "base_uri": "https://localhost:8080/"
        },
        "id": "CQaYajalAh-B",
        "outputId": "2d26f563-249d-4043-e06a-d2cf8d85170c"
      },
      "source": [
        "x"
      ],
      "execution_count": 37,
      "outputs": [
        {
          "output_type": "execute_result",
          "data": {
            "text/plain": [
              "<function dict.values>"
            ]
          },
          "metadata": {
            "tags": []
          },
          "execution_count": 37
        }
      ]
    },
    {
      "cell_type": "code",
      "metadata": {
        "id": "AS58xhFgArZH"
      },
      "source": [
        " y = biodata.items"
      ],
      "execution_count": 38,
      "outputs": []
    },
    {
      "cell_type": "code",
      "metadata": {
        "colab": {
          "base_uri": "https://localhost:8080/"
        },
        "id": "SW5Zs_elA2VW",
        "outputId": "54d2b111-d01a-4d7a-b9ea-4f49b7ea34e1"
      },
      "source": [
        "print(y)"
      ],
      "execution_count": 41,
      "outputs": [
        {
          "output_type": "stream",
          "text": [
            "<built-in method items of dict object at 0x7fb7db9b4120>\n"
          ],
          "name": "stdout"
        }
      ]
    },
    {
      "cell_type": "code",
      "metadata": {
        "colab": {
          "base_uri": "https://localhost:8080/",
          "height": 35
        },
        "id": "m8a8Cw8_A8Fq",
        "outputId": "779b1fdf-521e-44ee-f856-62927e7c63b1"
      },
      "source": [
        "biodata.pop(\"Nature\")"
      ],
      "execution_count": 42,
      "outputs": [
        {
          "output_type": "execute_result",
          "data": {
            "application/vnd.google.colaboratory.intrinsic+json": {
              "type": "string"
            },
            "text/plain": [
              "'good'"
            ]
          },
          "metadata": {
            "tags": []
          },
          "execution_count": 42
        }
      ]
    },
    {
      "cell_type": "code",
      "metadata": {
        "colab": {
          "base_uri": "https://localhost:8080/"
        },
        "id": "rzy--AHoBJgO",
        "outputId": "0cea6667-5c46-4f36-e431-19c4f31957cf"
      },
      "source": [
        "biodata"
      ],
      "execution_count": 43,
      "outputs": [
        {
          "output_type": "execute_result",
          "data": {
            "text/plain": [
              "{'Age': 27, 'Location': 'VASAI', 'Name': 'Sanket Jagtap'}"
            ]
          },
          "metadata": {
            "tags": []
          },
          "execution_count": 43
        }
      ]
    },
    {
      "cell_type": "code",
      "metadata": {
        "id": "lnSgN-sTBLB0"
      },
      "source": [
        ""
      ],
      "execution_count": null,
      "outputs": []
    }
  ]
}