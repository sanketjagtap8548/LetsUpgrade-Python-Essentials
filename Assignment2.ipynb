{
  "nbformat": 4,
  "nbformat_minor": 0,
  "metadata": {
    "colab": {
      "name": "Assignment2.ipynb",
      "provenance": [],
      "collapsed_sections": []
    },
    "kernelspec": {
      "name": "python3",
      "display_name": "Python 3"
    }
  },
  "cells": [
    {
      "cell_type": "code",
      "metadata": {
        "id": "y2sQOQR-DAaV"
      },
      "source": [
        "Question 1\r\n",
        "You all are pilots, you have to land a plane, the altitude required for landing a plane is 1000ft, if it\r\n",
        "is less than that tell the pilot to land the plane, or it is more than that but less than 5000ft ask the\r\n",
        "pilot to \"come down to 1000ft\", else if it is more than 5000ft ask the pilot to \"go around and try\r\n",
        "later\"\r\n",
        "Example: Input - 1000\r\n",
        "Output - Safe to land\r\n",
        "Example: Input - 4500\r\n",
        "Output - Bring down to 1000\r\n",
        "Example: Input 6500\r\n",
        "Output - Turn Around"
      ],
      "execution_count": null,
      "outputs": []
    },
    {
      "cell_type": "code",
      "metadata": {
        "id": "2Ix-kkNSD9B8"
      },
      "source": [
        "def main ():\r\n",
        " num = input(\"Enter Input for Landing plane :\")\r\n",
        " if (num < 1000):\r\n",
        "  print(\"Safe to land\")\r\n",
        "  if (num > 1000 and num < 5000):\r\n",
        "    print(\"Bring down to 1000\") \r\n",
        "  elif (num > 5000):\r\n",
        "    print(\"Turn Around\")\r\n",
        "  else:\r\n",
        "    print(\"ok\")"
      ],
      "execution_count": 56,
      "outputs": []
    },
    {
      "cell_type": "code",
      "metadata": {
        "id": "lHCIA0T4HRGO"
      },
      "source": [
        "1000\r\n"
      ],
      "execution_count": null,
      "outputs": []
    },
    {
      "cell_type": "code",
      "metadata": {
        "colab": {
          "base_uri": "https://localhost:8080/"
        },
        "id": "YxC2bhjyNXWi",
        "outputId": "32ba57c4-5faf-4c5c-a2e4-5e86c8ea4549"
      },
      "source": [
        "  if (1000 <= 1000):\r\n",
        "   print(\"Safe to land\")\r\n",
        "  elif (1000 > 1000 and 1000 < 5000):\r\n",
        "    print(\"Bring down to 1000\") \r\n",
        "  elif (1000  > 5000):\r\n",
        "    print(\"Turn Around\")\r\n",
        "  else:\r\n",
        "    print(\"ok\")"
      ],
      "execution_count": 61,
      "outputs": [
        {
          "output_type": "stream",
          "text": [
            "Safe to land\n"
          ],
          "name": "stdout"
        }
      ]
    },
    {
      "cell_type": "code",
      "metadata": {
        "colab": {
          "base_uri": "https://localhost:8080/"
        },
        "id": "Yr1BkkP7OLVQ",
        "outputId": "863f9a22-d6d3-4610-ffd1-fc8ed1038985"
      },
      "source": [
        "if (4500 <= 1000):\r\n",
        "   print(\"Safe to land\")\r\n",
        "elif (4500 > 1000 and 4500 < 5000):\r\n",
        "  print(\"Bring down to 1000\") \r\n",
        "elif (4500  > 5000):\r\n",
        "  print(\"Turn Around\")\r\n",
        "else:\r\n",
        "    print(\"ok\")"
      ],
      "execution_count": 69,
      "outputs": [
        {
          "output_type": "stream",
          "text": [
            "Bring down to 1000\n"
          ],
          "name": "stdout"
        }
      ]
    },
    {
      "cell_type": "code",
      "metadata": {
        "colab": {
          "base_uri": "https://localhost:8080/"
        },
        "id": "zelzYLO1PcCb",
        "outputId": "a0378697-eab0-48d5-c165-cffd03d6a670"
      },
      "source": [
        "if (6500 <= 1000):\r\n",
        "   print(\"Safe to land\")\r\n",
        "elif (6500 > 1000 and 6500 < 5000):\r\n",
        "  print(\"Bring down to 1000\") \r\n",
        "elif (6500  > 5000):\r\n",
        "  print(\"Turn Around\")\r\n",
        "else:\r\n",
        "    print(\"ok\")"
      ],
      "execution_count": 70,
      "outputs": [
        {
          "output_type": "stream",
          "text": [
            "Turn Around\n"
          ],
          "name": "stdout"
        }
      ]
    }
  ]
}