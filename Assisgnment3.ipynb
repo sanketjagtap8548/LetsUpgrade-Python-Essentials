{
  "nbformat": 4,
  "nbformat_minor": 0,
  "metadata": {
    "colab": {
      "name": "Assisgnment3.ipynb",
      "provenance": [],
      "collapsed_sections": []
    },
    "kernelspec": {
      "name": "python3",
      "display_name": "Python 3"
    }
  },
  "cells": [
    {
      "cell_type": "code",
      "metadata": {
        "id": "snG6D8SjUpLN"
      },
      "source": [
        ""
      ],
      "execution_count": null,
      "outputs": []
    },
    {
      "cell_type": "markdown",
      "metadata": {
        "id": "cOuLxeZxcnNY"
      },
      "source": [
        "Write a function in Python to check whether a number is Prime or not."
      ]
    },
    {
      "cell_type": "code",
      "metadata": {
        "id": "Cj4qHXmRcoC_"
      },
      "source": [
        "lst = [1,3,2,4,5,6,67,998,334]"
      ],
      "execution_count": 1,
      "outputs": []
    },
    {
      "cell_type": "code",
      "metadata": {
        "id": "MfOSDixGcsic"
      },
      "source": [
        "def isPrime(num):\r\n",
        " if num > 1:\r\n",
        "     for i in range(2, num):\r\n",
        "        if (num % i) == 0:\r\n",
        "            print(num, \"is not a prime number\")\r\n",
        "            break\r\n",
        "     else:\r\n",
        "        print(num, \"is a prime number\")\r\n",
        " \r\n",
        " else:\r\n",
        "    print(num, \"is not a prime number\")"
      ],
      "execution_count": 6,
      "outputs": []
    },
    {
      "cell_type": "code",
      "metadata": {
        "colab": {
          "base_uri": "https://localhost:8080/"
        },
        "id": "oR9cW3HCdQ0E",
        "outputId": "40c3e296-268d-4b87-e816-2079c66d912a"
      },
      "source": [
        "isPrime(4)"
      ],
      "execution_count": 7,
      "outputs": [
        {
          "output_type": "stream",
          "text": [
            "4 is not a prime number\n"
          ],
          "name": "stdout"
        }
      ]
    },
    {
      "cell_type": "code",
      "metadata": {
        "colab": {
          "base_uri": "https://localhost:8080/"
        },
        "id": "RnmPjPoIdTQj",
        "outputId": "0719a1d4-b1dd-4294-b6c7-252e07632bf9"
      },
      "source": [
        "isPrime(5)"
      ],
      "execution_count": 8,
      "outputs": [
        {
          "output_type": "stream",
          "text": [
            "5 is a prime number\n"
          ],
          "name": "stdout"
        }
      ]
    },
    {
      "cell_type": "code",
      "metadata": {
        "colab": {
          "base_uri": "https://localhost:8080/"
        },
        "id": "j1ZQCwXldWve",
        "outputId": "339bebb9-44e8-4afb-e450-65455ba79756"
      },
      "source": [
        " result_lst_withMap = map(isPrime, lst)\r\n",
        "print(list(result_lst_withMap))"
      ],
      "execution_count": 9,
      "outputs": [
        {
          "output_type": "stream",
          "text": [
            "1 is not a prime number\n",
            "3 is a prime number\n",
            "2 is a prime number\n",
            "4 is not a prime number\n",
            "5 is a prime number\n",
            "6 is not a prime number\n",
            "67 is a prime number\n",
            "998 is not a prime number\n",
            "334 is not a prime number\n",
            "[None, None, None, None, None, None, None, None, None]\n"
          ],
          "name": "stdout"
        }
      ]
    }
  ]
}